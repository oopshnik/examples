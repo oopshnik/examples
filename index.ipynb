{
 "cells": [
  {
   "cell_type": "markdown",
   "metadata": {},
   "source": [
    "# Overview of Jupyter Notebooks using almond\n",
    "\n",
    "A list of Jupyter notebooks using almond by topic."
   ]
  },
  {
   "cell_type": "markdown",
   "metadata": {},
   "source": [
    "## Notebooks in this repository\n",
    "\n",
    "### Scala\n",
    "* [Scala Tour](scala-tour/tour-of-scala.ipynb)\n",
    "* [Scalameta Tree Guide](scalameta/tree-guide.ipynb)\n",
    "\n",
    "### Jupyter\n",
    "* [Interactive Computing in Scala with Jupyter and Almond](interactive_computing_article.ipynb) (almond intro article as notebook)\n",
    "\n",
    "### Visualization\n",
    "\n",
    "* [plotly-scala examples](visualization/plotly_examples.ipynb)\n",
    "* [Vegas examples](visualization/vegas.ipynb) (Scala 2.11 only)\n",
    "* [Evilplot](visualization/evilplot.ipynb)\n",
    "\n",
    "### Big Data\n",
    "\n",
    "#### [Spark](https://spark.apache.org/)\n",
    "* [Basic Spark example](spark.ipynb)\n",
    "\n",
    "### Machine Learning\n",
    "\n",
    "#### [TransmogrifAI](https://transmogrif.ai/)\n",
    "* [Iris classification example](TransmogrifAI/OpIris.ipynb) (Scala 2.11 only)\n",
    "* [Titanic example](TransmogrifAI/OpTitanicSimple.ipynb) (Scala 2.11 only\n",
    "\n",
    "#### TensorFlow Scala\n",
    "* [TensorFlow Scala MNIST Example](tensorflow_scala.ipynb)"
   ]
  },
  {
   "cell_type": "markdown",
   "metadata": {},
   "source": [
    "## External Notebooks\n",
    "\n",
    "Links to notebooks using almond that are hosted externally.\n",
    "\n",
    "### [Chisel](https://chisel.eecs.berkeley.edu/) open-source hardware construction language\n",
    "* [Chisel Bootcamp](https://github.com/freechipsproject/chisel-bootcamp) [![Binder](https://mybinder.org/badge_logo.svg)](https://mybinder.org/v2/gh/freechipsproject/chisel-bootcamp/master)"
   ]
  }
 ],
 "metadata": {
  "kernelspec": {
   "display_name": "Scala (2.13)",
   "language": "scala",
   "name": "scala213"
  },
  "language_info": {
   "codemirror_mode": "text/x-scala",
   "file_extension": ".scala",
   "mimetype": "text/x-scala",
   "name": "scala",
   "nbconvert_exporter": "script",
   "version": "2.13.1"
  },
  "toc": {
   "base_numbering": 1,
   "nav_menu": {},
   "number_sections": false,
   "sideBar": true,
   "skip_h1_title": true,
   "title_cell": "Table of Contents",
   "title_sidebar": "Contents",
   "toc_cell": true,
   "toc_position": {},
   "toc_section_display": true,
   "toc_window_display": true
  }
 },
 "nbformat": 4,
 "nbformat_minor": 4
}
